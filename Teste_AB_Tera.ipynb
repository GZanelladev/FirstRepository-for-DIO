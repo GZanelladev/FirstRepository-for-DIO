{
  "nbformat": 4,
  "nbformat_minor": 0,
  "metadata": {
    "colab": {
      "provenance": [],
      "include_colab_link": true
    },
    "kernelspec": {
      "name": "python3",
      "display_name": "Python 3"
    },
    "language_info": {
      "name": "python"
    }
  },
  "cells": [
    {
      "cell_type": "markdown",
      "metadata": {
        "id": "view-in-github",
        "colab_type": "text"
      },
      "source": [
        "<a href=\"https://colab.research.google.com/github/GZanelladev/FirstRepository-for-DIO/blob/main/Teste_AB_Tera.ipynb\" target=\"_parent\"><img src=\"https://colab.research.google.com/assets/colab-badge.svg\" alt=\"Open In Colab\"/></a>"
      ]
    },
    {
      "cell_type": "markdown",
      "metadata": {
        "id": "OgjtqIkp9lki"
      },
      "source": [
        "# Carregamento das bibliotecas"
      ]
    },
    {
      "cell_type": "code",
      "metadata": {
        "id": "xjTC2nEhIZ4q"
      },
      "source": [
        "pip install pingouin"
      ],
      "execution_count": null,
      "outputs": []
    },
    {
      "cell_type": "code",
      "metadata": {
        "id": "mLeQWIuu9oEL"
      },
      "source": [
        "import pandas as pd\n",
        "import numpy as np\n",
        "import seaborn as sns\n",
        "from matplotlib import pyplot as plt"
      ],
      "execution_count": null,
      "outputs": []
    },
    {
      "cell_type": "markdown",
      "metadata": {
        "id": "Gt_UdTO-9uhw"
      },
      "source": [
        "# Criando o banco de dados"
      ]
    },
    {
      "cell_type": "markdown",
      "metadata": {
        "id": "lQOGzY9y90nj"
      },
      "source": [
        "### Estabelecendo uma semente para a randomização"
      ]
    },
    {
      "cell_type": "code",
      "metadata": {
        "id": "40VsWXEm97Bd"
      },
      "source": [
        "np.random.seed(321)"
      ],
      "execution_count": null,
      "outputs": []
    },
    {
      "cell_type": "markdown",
      "metadata": {
        "id": "wD7eIaP4-CFi"
      },
      "source": [
        "### Estabelecendo parâmetros para os dados que serão gerados"
      ]
    },
    {
      "cell_type": "code",
      "metadata": {
        "id": "u-nCYknW-HJP"
      },
      "source": [
        "media_cachorro = 58\n",
        "media_gato = 53\n",
        "dp = 15\n",
        "n_total = 500"
      ],
      "execution_count": null,
      "outputs": []
    },
    {
      "cell_type": "markdown",
      "metadata": {
        "id": "1iLoJh7N-byG"
      },
      "source": [
        "### Gerando a randomização do grupo (gato ou cachorro)"
      ]
    },
    {
      "cell_type": "code",
      "metadata": {
        "id": "25RQp2xt-irQ"
      },
      "source": [
        "grupo = np.random.binomial(n = 1, p = 0.5, size = n_total)\n",
        "# 0 = gato; 1 = cachorro"
      ],
      "execution_count": null,
      "outputs": []
    },
    {
      "cell_type": "markdown",
      "metadata": {
        "id": "cws4sOR_-ujr"
      },
      "source": [
        "### Criando o escore de 0-100 após o vídeo"
      ]
    },
    {
      "cell_type": "code",
      "metadata": {
        "id": "3f2aUpht-2u2"
      },
      "source": [
        "escore = (1-grupo)*np.random.normal(loc = media_gato,\n",
        "                                    scale = dp, size = n_total) +\n",
        "grupo*np.random.normal(loc = media_cachorro,\n",
        "                       scale = dp, size = n_total)"
      ],
      "execution_count": null,
      "outputs": []
    },
    {
      "cell_type": "markdown",
      "metadata": {
        "id": "dzrTI2fz_vyt"
      },
      "source": [
        "### Unindo o escore e o grupo para criação do dataframe"
      ]
    },
    {
      "cell_type": "code",
      "metadata": {
        "id": "O3ouYKnT_z7j"
      },
      "source": [
        "df = pd.DataFrame(data = {'grupo': grupo, 'escore': escore})"
      ],
      "execution_count": null,
      "outputs": []
    },
    {
      "cell_type": "markdown",
      "metadata": {
        "id": "9Mu4kdIlAHiA"
      },
      "source": [
        "# Análise descritiva do dataframe"
      ]
    },
    {
      "cell_type": "code",
      "metadata": {
        "colab": {
          "base_uri": "https://localhost:8080/",
          "height": 363
        },
        "id": "QA7y7oOxALJw",
        "outputId": "5807e12c-5a96-4c00-e3c7-9c8a8fa7920e"
      },
      "source": [
        "df.head(10)"
      ],
      "execution_count": null,
      "outputs": [
        {
          "output_type": "execute_result",
          "data": {
            "text/html": [
              "<div>\n",
              "<style scoped>\n",
              "    .dataframe tbody tr th:only-of-type {\n",
              "        vertical-align: middle;\n",
              "    }\n",
              "\n",
              "    .dataframe tbody tr th {\n",
              "        vertical-align: top;\n",
              "    }\n",
              "\n",
              "    .dataframe thead th {\n",
              "        text-align: right;\n",
              "    }\n",
              "</style>\n",
              "<table border=\"1\" class=\"dataframe\">\n",
              "  <thead>\n",
              "    <tr style=\"text-align: right;\">\n",
              "      <th></th>\n",
              "      <th>grupo</th>\n",
              "      <th>escore</th>\n",
              "    </tr>\n",
              "  </thead>\n",
              "  <tbody>\n",
              "    <tr>\n",
              "      <th>0</th>\n",
              "      <td>1</td>\n",
              "      <td>75.220998</td>\n",
              "    </tr>\n",
              "    <tr>\n",
              "      <th>1</th>\n",
              "      <td>1</td>\n",
              "      <td>56.458337</td>\n",
              "    </tr>\n",
              "    <tr>\n",
              "      <th>2</th>\n",
              "      <td>0</td>\n",
              "      <td>56.960214</td>\n",
              "    </tr>\n",
              "    <tr>\n",
              "      <th>3</th>\n",
              "      <td>0</td>\n",
              "      <td>71.058133</td>\n",
              "    </tr>\n",
              "    <tr>\n",
              "      <th>4</th>\n",
              "      <td>0</td>\n",
              "      <td>12.556875</td>\n",
              "    </tr>\n",
              "    <tr>\n",
              "      <th>5</th>\n",
              "      <td>0</td>\n",
              "      <td>28.024040</td>\n",
              "    </tr>\n",
              "    <tr>\n",
              "      <th>6</th>\n",
              "      <td>0</td>\n",
              "      <td>53.601469</td>\n",
              "    </tr>\n",
              "    <tr>\n",
              "      <th>7</th>\n",
              "      <td>1</td>\n",
              "      <td>31.597717</td>\n",
              "    </tr>\n",
              "    <tr>\n",
              "      <th>8</th>\n",
              "      <td>1</td>\n",
              "      <td>54.306039</td>\n",
              "    </tr>\n",
              "    <tr>\n",
              "      <th>9</th>\n",
              "      <td>1</td>\n",
              "      <td>30.054805</td>\n",
              "    </tr>\n",
              "  </tbody>\n",
              "</table>\n",
              "</div>"
            ],
            "text/plain": [
              "   grupo     escore\n",
              "0      1  75.220998\n",
              "1      1  56.458337\n",
              "2      0  56.960214\n",
              "3      0  71.058133\n",
              "4      0  12.556875\n",
              "5      0  28.024040\n",
              "6      0  53.601469\n",
              "7      1  31.597717\n",
              "8      1  54.306039\n",
              "9      1  30.054805"
            ]
          },
          "metadata": {},
          "execution_count": 20
        }
      ]
    },
    {
      "cell_type": "code",
      "metadata": {
        "colab": {
          "base_uri": "https://localhost:8080/",
          "height": 300
        },
        "id": "QlkdX31vAQQs",
        "outputId": "24c6f649-ed92-4b3d-9b72-d1a84abddad8"
      },
      "source": [
        "df.describe().round(2)"
      ],
      "execution_count": null,
      "outputs": [
        {
          "output_type": "execute_result",
          "data": {
            "text/html": [
              "<div>\n",
              "<style scoped>\n",
              "    .dataframe tbody tr th:only-of-type {\n",
              "        vertical-align: middle;\n",
              "    }\n",
              "\n",
              "    .dataframe tbody tr th {\n",
              "        vertical-align: top;\n",
              "    }\n",
              "\n",
              "    .dataframe thead th {\n",
              "        text-align: right;\n",
              "    }\n",
              "</style>\n",
              "<table border=\"1\" class=\"dataframe\">\n",
              "  <thead>\n",
              "    <tr style=\"text-align: right;\">\n",
              "      <th></th>\n",
              "      <th>grupo</th>\n",
              "      <th>escore</th>\n",
              "    </tr>\n",
              "  </thead>\n",
              "  <tbody>\n",
              "    <tr>\n",
              "      <th>count</th>\n",
              "      <td>500.00</td>\n",
              "      <td>500.00</td>\n",
              "    </tr>\n",
              "    <tr>\n",
              "      <th>mean</th>\n",
              "      <td>0.49</td>\n",
              "      <td>54.86</td>\n",
              "    </tr>\n",
              "    <tr>\n",
              "      <th>std</th>\n",
              "      <td>0.50</td>\n",
              "      <td>15.21</td>\n",
              "    </tr>\n",
              "    <tr>\n",
              "      <th>min</th>\n",
              "      <td>0.00</td>\n",
              "      <td>11.42</td>\n",
              "    </tr>\n",
              "    <tr>\n",
              "      <th>25%</th>\n",
              "      <td>0.00</td>\n",
              "      <td>44.44</td>\n",
              "    </tr>\n",
              "    <tr>\n",
              "      <th>50%</th>\n",
              "      <td>0.00</td>\n",
              "      <td>55.27</td>\n",
              "    </tr>\n",
              "    <tr>\n",
              "      <th>75%</th>\n",
              "      <td>1.00</td>\n",
              "      <td>65.22</td>\n",
              "    </tr>\n",
              "    <tr>\n",
              "      <th>max</th>\n",
              "      <td>1.00</td>\n",
              "      <td>94.54</td>\n",
              "    </tr>\n",
              "  </tbody>\n",
              "</table>\n",
              "</div>"
            ],
            "text/plain": [
              "        grupo  escore\n",
              "count  500.00  500.00\n",
              "mean     0.49   54.86\n",
              "std      0.50   15.21\n",
              "min      0.00   11.42\n",
              "25%      0.00   44.44\n",
              "50%      0.00   55.27\n",
              "75%      1.00   65.22\n",
              "max      1.00   94.54"
            ]
          },
          "metadata": {},
          "execution_count": 21
        }
      ]
    },
    {
      "cell_type": "code",
      "metadata": {
        "colab": {
          "base_uri": "https://localhost:8080/",
          "height": 175
        },
        "id": "G3vDcWocAihF",
        "outputId": "00229ccb-7e0f-4e2e-b83f-7d9d95cbbcb2"
      },
      "source": [
        "df.groupby('grupo').describe().round(2)"
      ],
      "execution_count": null,
      "outputs": [
        {
          "output_type": "execute_result",
          "data": {
            "text/html": [
              "<div>\n",
              "<style scoped>\n",
              "    .dataframe tbody tr th:only-of-type {\n",
              "        vertical-align: middle;\n",
              "    }\n",
              "\n",
              "    .dataframe tbody tr th {\n",
              "        vertical-align: top;\n",
              "    }\n",
              "\n",
              "    .dataframe thead tr th {\n",
              "        text-align: left;\n",
              "    }\n",
              "\n",
              "    .dataframe thead tr:last-of-type th {\n",
              "        text-align: right;\n",
              "    }\n",
              "</style>\n",
              "<table border=\"1\" class=\"dataframe\">\n",
              "  <thead>\n",
              "    <tr>\n",
              "      <th></th>\n",
              "      <th colspan=\"8\" halign=\"left\">escore</th>\n",
              "    </tr>\n",
              "    <tr>\n",
              "      <th></th>\n",
              "      <th>count</th>\n",
              "      <th>mean</th>\n",
              "      <th>std</th>\n",
              "      <th>min</th>\n",
              "      <th>25%</th>\n",
              "      <th>50%</th>\n",
              "      <th>75%</th>\n",
              "      <th>max</th>\n",
              "    </tr>\n",
              "    <tr>\n",
              "      <th>grupo</th>\n",
              "      <th></th>\n",
              "      <th></th>\n",
              "      <th></th>\n",
              "      <th></th>\n",
              "      <th></th>\n",
              "      <th></th>\n",
              "      <th></th>\n",
              "      <th></th>\n",
              "    </tr>\n",
              "  </thead>\n",
              "  <tbody>\n",
              "    <tr>\n",
              "      <th>0</th>\n",
              "      <td>253.0</td>\n",
              "      <td>52.87</td>\n",
              "      <td>14.84</td>\n",
              "      <td>12.56</td>\n",
              "      <td>42.99</td>\n",
              "      <td>52.87</td>\n",
              "      <td>62.53</td>\n",
              "      <td>94.18</td>\n",
              "    </tr>\n",
              "    <tr>\n",
              "      <th>1</th>\n",
              "      <td>247.0</td>\n",
              "      <td>56.90</td>\n",
              "      <td>15.34</td>\n",
              "      <td>11.42</td>\n",
              "      <td>47.28</td>\n",
              "      <td>57.58</td>\n",
              "      <td>66.99</td>\n",
              "      <td>94.54</td>\n",
              "    </tr>\n",
              "  </tbody>\n",
              "</table>\n",
              "</div>"
            ],
            "text/plain": [
              "      escore                                                 \n",
              "       count   mean    std    min    25%    50%    75%    max\n",
              "grupo                                                        \n",
              "0      253.0  52.87  14.84  12.56  42.99  52.87  62.53  94.18\n",
              "1      247.0  56.90  15.34  11.42  47.28  57.58  66.99  94.54"
            ]
          },
          "metadata": {},
          "execution_count": 22
        }
      ]
    },
    {
      "cell_type": "markdown",
      "metadata": {
        "id": "-xJ6rpHwBBfY"
      },
      "source": [
        "### Histograma por grupo"
      ]
    },
    {
      "cell_type": "code",
      "metadata": {
        "colab": {
          "base_uri": "https://localhost:8080/",
          "height": 279
        },
        "id": "pNVFq5LXBEjf",
        "outputId": "70493807-042e-48bb-e824-0ad27055bd29"
      },
      "source": [
        "sns.histplot(df[df['grupo'] == 0]['escore'], label = 'Gato', stat = \"density\", color=\"darkorange\", kde=True)\n",
        "sns.histplot(df[df['grupo'] == 1]['escore'], label = 'Cachorro', stat = \"density\", color=\"cadetblue\", kde=True)\n",
        "plt.xlabel('Escore (0 a 100)')\n",
        "plt.legend()\n",
        "plt.show()"
      ],
      "execution_count": null,
      "outputs": [
        {
          "output_type": "display_data",
          "data": {
            "image/png": "[encoded data removed]",
            "text/plain": [
              "<Figure size 432x288 with 1 Axes>"
            ]
          },
          "metadata": {
            "needs_background": "light"
          }
        }
      ]
    },
    {
      "cell_type": "markdown",
      "metadata": {
        "id": "lUY3bH1rDyGZ"
      },
      "source": [
        "# Comparação entre os grupos por teste-t independente"
      ]
    },
    {
      "cell_type": "markdown",
      "metadata": {
        "id": "nuIhJ_gOD9t4"
      },
      "source": [
        "Vamos comparar as médias dos escores dos dois grupos. São estatisticamente diferentes?"
      ]
    },
    {
      "cell_type": "code",
      "metadata": {
        "id": "07S63VidD2A2"
      },
      "source": [
        "from scipy.stats import ttest_ind\n",
        "# Importando a função que realiza o teste-t para amostras independentes"
      ],
      "execution_count": null,
      "outputs": []
    },
    {
      "cell_type": "code",
      "metadata": {
        "id": "lIIXqMsWEQcB"
      },
      "source": [
        "stat, p = ttest_ind(df[df['grupo'] == 0]['escore'], df[df['grupo'] == 1]['escore'])"
      ],
      "execution_count": null,
      "outputs": []
    },
    {
      "cell_type": "code",
      "metadata": {
        "colab": {
          "base_uri": "https://localhost:8080/"
        },
        "id": "VJ6IpPJLFDSF",
        "outputId": "a5ca8a8d-ecae-433b-8cd9-33d0acea5c4c"
      },
      "source": [
        "print('stat=%.3f, p=%.3f' % (stat, p))"
      ],
      "execution_count": null,
      "outputs": [
        {
          "output_type": "stream",
          "name": "stdout",
          "text": [
            "stat=-2.979, p=0.003\n"
          ]
        }
      ]
    },
    {
      "cell_type": "markdown",
      "metadata": {
        "id": "8Hz7v-KqFfWs"
      },
      "source": [
        "Estabelecendo o nível de significância como 5%, como p < 0,05, vamos considerar que há diferença entre os grupos.\n",
        "Sabendo (pela análise descritiva) que a média do comercial com gatos é inferior à média do comercial com cachorros, podemos dizer que o comercial com cachorros induz a um escore de intenção de adoção estatisticamente superior ao comercial com gatos."
      ]
    },
    {
      "cell_type": "markdown",
      "metadata": {
        "id": "7SvnzPNiHnAW"
      },
      "source": [
        "#### Outra opção: com a biblioteca pingouin (output mais completo)"
      ]
    },
    {
      "cell_type": "code",
      "metadata": {
        "id": "MrQaLnMdHv9I"
      },
      "source": [
        "import pingouin as pg"
      ],
      "execution_count": null,
      "outputs": []
    },
    {
      "cell_type": "code",
      "metadata": {
        "colab": {
          "base_uri": "https://localhost:8080/",
          "height": 81
        },
        "id": "dSqv-zQ6IhKy",
        "outputId": "a598a24f-3e74-4741-9ba8-37a8378b4024"
      },
      "source": [
        "pg.ttest(df[df['grupo'] == 0]['escore'], df[df['grupo'] == 1]['escore'], correction=False)"
      ],
      "execution_count": null,
      "outputs": [
        {
          "output_type": "execute_result",
          "data": {
            "text/html": [
              "<div>\n",
              "<style scoped>\n",
              "    .dataframe tbody tr th:only-of-type {\n",
              "        vertical-align: middle;\n",
              "    }\n",
              "\n",
              "    .dataframe tbody tr th {\n",
              "        vertical-align: top;\n",
              "    }\n",
              "\n",
              "    .dataframe thead th {\n",
              "        text-align: right;\n",
              "    }\n",
              "</style>\n",
              "<table border=\"1\" class=\"dataframe\">\n",
              "  <thead>\n",
              "    <tr style=\"text-align: right;\">\n",
              "      <th></th>\n",
              "      <th>T</th>\n",
              "      <th>dof</th>\n",
              "      <th>alternative</th>\n",
              "      <th>p-val</th>\n",
              "      <th>CI95%</th>\n",
              "      <th>cohen-d</th>\n",
              "      <th>BF10</th>\n",
              "      <th>power</th>\n",
              "    </tr>\n",
              "  </thead>\n",
              "  <tbody>\n",
              "    <tr>\n",
              "      <th>T-test</th>\n",
              "      <td>-2.979398</td>\n",
              "      <td>498</td>\n",
              "      <td>two-sided</td>\n",
              "      <td>0.003029</td>\n",
              "      <td>[-6.67, -1.37]</td>\n",
              "      <td>0.266505</td>\n",
              "      <td>7.205</td>\n",
              "      <td>0.844633</td>\n",
              "    </tr>\n",
              "  </tbody>\n",
              "</table>\n",
              "</div>"
            ],
            "text/plain": [
              "               T  dof alternative  ...   cohen-d   BF10     power\n",
              "T-test -2.979398  498   two-sided  ...  0.266505  7.205  0.844633\n",
              "\n",
              "[1 rows x 8 columns]"
            ]
          },
          "metadata": {},
          "execution_count": 28
        }
      ]
    }
  ]
}